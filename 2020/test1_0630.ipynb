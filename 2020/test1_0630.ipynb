{
 "cells": [
  {
   "cell_type": "markdown",
   "metadata": {},
   "source": [
    "## comboのimport error 対策"
   ]
  },
  {
   "cell_type": "code",
   "execution_count": 1,
   "metadata": {},
   "outputs": [
    {
     "name": "stdout",
     "output_type": "stream",
     "text": [
      "Name: combo\r\n",
      "Version: 0.2\r\n",
      "Summary: UNKNOWN\r\n",
      "Home-page: UNKNOWN\r\n",
      "Author: Tsuyoshi Ueno\r\n",
      "Author-email: tsuyoshi.ueno@gmail.com\r\n",
      "License: UNKNOWN\r\n",
      "Location: /Users/mkumada/.pyenv/versions/3.6.8/envs/combo3/lib/python3.6/site-packages\r\n",
      "Requires: \r\n",
      "Required-by: \r\n"
     ]
    }
   ],
   "source": [
    "!pip show combo"
   ]
  },
  {
   "cell_type": "code",
   "execution_count": 13,
   "metadata": {},
   "outputs": [
    {
     "name": "stdout",
     "output_type": "stream",
     "text": [
      "['/Users/mkumada/.pyenv/versions/3.6.8/lib/python36.zip',\n",
      " '/Users/mkumada/.pyenv/versions/3.6.8/lib/python3.6',\n",
      " '/Users/mkumada/.pyenv/versions/3.6.8/lib/python3.6/lib-dynload',\n",
      " '',\n",
      " '/Users/mkumada/.pyenv/versions/3.6.8/lib/python3.6/site-packages',\n",
      " '/Users/mkumada/.pyenv/versions/3.6.8/lib/python3.6/site-packages/IPython/extensions',\n",
      " '/Users/mkumada/.ipython',\n",
      " '/Users/mkumada/.pyenv/versions/3.6.8/envs/combo3/lib/python3.6/site-packages/',\n",
      " '/Users/mkumada/.pyenv/versions/3.6.8/envs/combo3/lib/python3.6/site-packages/',\n",
      " './combo_single/']\n",
      "['/Users/mkumada/.pyenv/versions/3.6.8/lib/python36.zip',\n",
      " '/Users/mkumada/.pyenv/versions/3.6.8/lib/python3.6',\n",
      " '/Users/mkumada/.pyenv/versions/3.6.8/lib/python3.6/lib-dynload',\n",
      " '',\n",
      " '/Users/mkumada/.pyenv/versions/3.6.8/lib/python3.6/site-packages',\n",
      " '/Users/mkumada/.pyenv/versions/3.6.8/lib/python3.6/site-packages/IPython/extensions',\n",
      " '/Users/mkumada/.ipython',\n",
      " '/Users/mkumada/.pyenv/versions/3.6.8/envs/combo3/lib/python3.6/site-packages/',\n",
      " '/Users/mkumada/.pyenv/versions/3.6.8/envs/combo3/lib/python3.6/site-packages/',\n",
      " './combo_single/',\n",
      " '/Users/mkumada/.pyenv/versions/3.6.8/envs/combo3/lib/python3.6/site-packages/']\n"
     ]
    }
   ],
   "source": [
    "import sys\n",
    "import pprint\n",
    "pprint.pprint(sys.path)\n",
    "sys.path.append('/Users/mkumada/.pyenv/versions/3.6.8/envs/combo3/lib/python3.6/site-packages/')\n",
    "pprint.pprint(sys.path)"
   ]
  },
  {
   "cell_type": "markdown",
   "metadata": {},
   "source": [
    "## library import"
   ]
  },
  {
   "cell_type": "code",
   "execution_count": 5,
   "metadata": {
    "tags": []
   },
   "outputs": [
    {
     "output_type": "stream",
     "name": "stdout",
     "text": "['/Users/mkumada/Documents/class/2020/work/combo3/mywork',\n '/Users/mkumada/.vscode/extensions/ms-python.python-2020.8.108011/pythonFiles',\n '/Users/mkumada/.vscode/extensions/ms-python.python-2020.8.108011/pythonFiles/lib/python',\n '/Users/mkumada/.pyenv/versions/3.6.8/lib/python36.zip',\n '/Users/mkumada/.pyenv/versions/3.6.8/lib/python3.6',\n '/Users/mkumada/.pyenv/versions/3.6.8/lib/python3.6/lib-dynload',\n '',\n '/Users/mkumada/.pyenv/versions/3.6.8/lib/python3.6/site-packages',\n '/Users/mkumada/.pyenv/versions/3.6.8/lib/python3.6/site-packages/IPython/extensions',\n '/Users/mkumada/.ipython',\n '/Users/mkumada/.pyenv/versions/3.6.8/envs/combo3/lib/python3.6/site-packages/']\n"
    }
   ],
   "source": [
    "import pprint\n",
    "sys.path.append('/Users/mkumada/.pyenv/versions/3.6.8/envs/combo3/lib/python3.6/site-packages/')\n",
    "pprint.pprint(sys.path)"
   ]
  },
  {
   "cell_type": "code",
   "execution_count": 6,
   "metadata": {},
   "outputs": [],
   "source": [
    "import numpy as np\n",
    "import pickle\n",
    "import scipy\n",
    "import combo\n",
    "import os\n",
    "import urllib\n",
    "import ssl\n",
    "import matplotlib.pyplot as plt\n",
    "%matplotlib inline"
   ]
  },
  {
   "cell_type": "code",
   "execution_count": 7,
   "metadata": {},
   "outputs": [],
   "source": [
    "# 濃度変換\n",
    "def concentration_conversion(X):\n",
    "    X[:, 1:-1] = X[:, 1:-1]/np.expand_dims(np.sum(X[:, 1:-1], axis=1), axis=1)\n",
    "    return X"
   ]
  },
  {
   "cell_type": "code",
   "execution_count": 8,
   "metadata": {},
   "outputs": [],
   "source": [
    "# データ取得\n",
    "def load_data(path):\n",
    "    A = np.loadtxt(path,skiprows=1,delimiter=',')\n",
    "    A = concentration_conversion(A)\n",
    "    X = A[:, 1:-1]\n",
    "    y  = -A[:, -1]\n",
    "    return X, y"
   ]
  },
  {
   "cell_type": "code",
   "execution_count": 9,
   "metadata": {},
   "outputs": [],
   "source": [
    "# delta\n",
    "def cost_func(a, b, c):\n",
    "    return (0.2-(a/2+b))**2 + (0.2-np.sqrt(3)/2)**2 + (c-0.15)**2"
   ]
  },
  {
   "cell_type": "code",
   "execution_count": 10,
   "metadata": {
    "tags": []
   },
   "outputs": [
    {
     "output_type": "stream",
     "name": "stdout",
     "text": "X: [[1.         0.         0.        ]\n [0.5        0.5        0.        ]\n [0.33333333 0.66666667 0.        ]\n [0.25       0.5        0.25      ]\n [0.4        0.4        0.2       ]]\ny: [-0.5 -0.2 -1.  -1.4 -1.2]\n"
    }
   ],
   "source": [
    "train_path = './data/train.csv'\n",
    "X, y = load_data(train_path)\n",
    "print('X:', X)\n",
    "print('y:',y)"
   ]
  },
  {
   "cell_type": "code",
   "execution_count": 11,
   "metadata": {},
   "outputs": [],
   "source": [
    "# If you want to apply combo to other problems, you have to customize this class. \n",
    "class simulator:\n",
    "    def __init__( self ):\n",
    "        _, self.t = load_data(train_path)\n",
    "    \n",
    "    def __call__( self, action ):\n",
    "        return self.t[action]"
   ]
  },
  {
   "cell_type": "code",
   "execution_count": 15,
   "metadata": {},
   "outputs": [],
   "source": [
    "# Design of policy\n",
    "\n",
    "# Declaring the policy by \n",
    "policy = combo.search.discrete.policy(test_X=X)\n",
    "# test_X is the set of candidates which is represented by numpy.array.\n",
    "# Each row vector represents the feature vector of the corresponding candidate\n",
    "\n",
    "# set the seed parameter \n",
    "policy.set_seed(0)"
   ]
  },
  {
   "cell_type": "code",
   "execution_count": 16,
   "metadata": {},
   "outputs": [
    {
     "output_type": "error",
     "ename": "NameError",
     "evalue": "name 'xrange' is not defined",
     "traceback": [
      "\u001b[0;31m---------------------------------------------------------------------------\u001b[0m",
      "\u001b[0;31mNameError\u001b[0m                                 Traceback (most recent call last)",
      "\u001b[0;32m<ipython-input-16-2eba4a83a8fa>\u001b[0m in \u001b[0;36m<module>\u001b[0;34m\u001b[0m\n\u001b[1;32m      2\u001b[0m \u001b[0;31m# the random sampling is performed by\u001b[0m\u001b[0;34m\u001b[0m\u001b[0;34m\u001b[0m\u001b[0;34m\u001b[0m\u001b[0m\n\u001b[1;32m      3\u001b[0m \u001b[0;34m\u001b[0m\u001b[0m\n\u001b[0;32m----> 4\u001b[0;31m \u001b[0mres\u001b[0m \u001b[0;34m=\u001b[0m \u001b[0mpolicy\u001b[0m\u001b[0;34m.\u001b[0m\u001b[0mrandom_search\u001b[0m\u001b[0;34m(\u001b[0m\u001b[0mmax_num_probes\u001b[0m\u001b[0;34m=\u001b[0m\u001b[0;36m2\u001b[0m\u001b[0;34m,\u001b[0m \u001b[0msimulator\u001b[0m\u001b[0;34m=\u001b[0m\u001b[0msimulator\u001b[0m\u001b[0;34m(\u001b[0m\u001b[0;34m)\u001b[0m\u001b[0;34m)\u001b[0m\u001b[0;34m\u001b[0m\u001b[0;34m\u001b[0m\u001b[0m\n\u001b[0m\u001b[1;32m      5\u001b[0m \u001b[0;31m# Input:\u001b[0m\u001b[0;34m\u001b[0m\u001b[0;34m\u001b[0m\u001b[0;34m\u001b[0m\u001b[0m\n\u001b[1;32m      6\u001b[0m \u001b[0;31m# max_num_probes: number of random search\u001b[0m\u001b[0;34m\u001b[0m\u001b[0;34m\u001b[0m\u001b[0;34m\u001b[0m\u001b[0m\n",
      "\u001b[0;32m~/.pyenv/versions/3.6.8/envs/combo3/lib/python3.6/site-packages/combo/search/discrete/policy.py\u001b[0m in \u001b[0;36mrandom_search\u001b[0;34m(self, max_num_probes, num_search_each_probe, simulator, is_disp)\u001b[0m\n\u001b[1;32m     56\u001b[0m             \u001b[0mutility\u001b[0m\u001b[0;34m.\u001b[0m\u001b[0mshow_interactive_mode\u001b[0m\u001b[0;34m(\u001b[0m\u001b[0msimulator\u001b[0m\u001b[0;34m,\u001b[0m \u001b[0mself\u001b[0m\u001b[0;34m.\u001b[0m\u001b[0mhistory\u001b[0m\u001b[0;34m)\u001b[0m\u001b[0;34m\u001b[0m\u001b[0;34m\u001b[0m\u001b[0m\n\u001b[1;32m     57\u001b[0m \u001b[0;34m\u001b[0m\u001b[0m\n\u001b[0;32m---> 58\u001b[0;31m         \u001b[0;32mfor\u001b[0m \u001b[0mn\u001b[0m \u001b[0;32min\u001b[0m \u001b[0mxrange\u001b[0m\u001b[0;34m(\u001b[0m\u001b[0;36m0\u001b[0m\u001b[0;34m,\u001b[0m \u001b[0mmax_num_probes\u001b[0m\u001b[0;34m)\u001b[0m\u001b[0;34m:\u001b[0m\u001b[0;34m\u001b[0m\u001b[0;34m\u001b[0m\u001b[0m\n\u001b[0m\u001b[1;32m     59\u001b[0m \u001b[0;34m\u001b[0m\u001b[0m\n\u001b[1;32m     60\u001b[0m             \u001b[0;32mif\u001b[0m \u001b[0mis_disp\u001b[0m \u001b[0;32mand\u001b[0m \u001b[0mN\u001b[0m \u001b[0;34m>\u001b[0m \u001b[0;36m1\u001b[0m\u001b[0;34m:\u001b[0m\u001b[0;34m\u001b[0m\u001b[0;34m\u001b[0m\u001b[0m\n",
      "\u001b[0;31mNameError\u001b[0m: name 'xrange' is not defined"
     ]
    }
   ],
   "source": [
    "# If you want to perform the initial random search before starting the Bayesian optimization, \n",
    "# the random sampling is performed by \n",
    "\n",
    "res = policy.random_search(max_num_probes=2, simulator=simulator())\n",
    "# Input: \n",
    "# max_num_probes: number of random search \n",
    "# simulator = simulator\n",
    "# output: combo.search.discreate.results (class)\n",
    "\n",
    "\n",
    "# single query Bayesian search\n",
    "# The single query version of COMBO is performed by \n",
    "res = policy.bayes_search(max_num_probes=2, simulator=simulator(), score='TS', \n",
    "                                                  interval=2, num_rand_basis=5000)\n",
    "\n",
    "# Input\n",
    "# max_num_probes: number of searching by Bayesian optimization\n",
    "# simulator: the class of simulator which is defined above\n",
    "# score: the type of aquision funciton. TS, EI and PI are available\n",
    "# interval: the timing for learning the hyper parameter. \n",
    "#               In this case, the hyper parameter is learned at each 20 steps\n",
    "#               If you set the negative value to interval, the hyper parameter learning is not performed \n",
    "#               If you set zero to interval, the hyper parameter learning is performed only at the first step\n",
    "# num_rand_basis: the number of basis function. If you choose 0,  ordinary Gaussian process runs"
   ]
  },
  {
   "cell_type": "code",
   "execution_count": 17,
   "metadata": {
    "tags": []
   },
   "outputs": [
    {
     "output_type": "stream",
     "name": "stdout",
     "text": "f(x)=\n"
    },
    {
     "output_type": "error",
     "ename": "NameError",
     "evalue": "name 'res' is not defined",
     "traceback": [
      "\u001b[0;31m---------------------------------------------------------------------------\u001b[0m",
      "\u001b[0;31mNameError\u001b[0m                                 Traceback (most recent call last)",
      "\u001b[0;32m<ipython-input-17-e1c85c0bc3b1>\u001b[0m in \u001b[0;36m<module>\u001b[0;34m\u001b[0m\n\u001b[1;32m      6\u001b[0m \u001b[0;31m# res.total_num_search: total number of search\u001b[0m\u001b[0;34m\u001b[0m\u001b[0;34m\u001b[0m\u001b[0;34m\u001b[0m\u001b[0m\n\u001b[1;32m      7\u001b[0m \u001b[0mprint\u001b[0m\u001b[0;34m(\u001b[0m\u001b[0;34m'f(x)='\u001b[0m\u001b[0;34m)\u001b[0m\u001b[0;34m\u001b[0m\u001b[0;34m\u001b[0m\u001b[0m\n\u001b[0;32m----> 8\u001b[0;31m \u001b[0mprint\u001b[0m\u001b[0;34m(\u001b[0m\u001b[0mres\u001b[0m\u001b[0;34m.\u001b[0m\u001b[0mfx\u001b[0m\u001b[0;34m[\u001b[0m\u001b[0;36m0\u001b[0m\u001b[0;34m:\u001b[0m\u001b[0mres\u001b[0m\u001b[0;34m.\u001b[0m\u001b[0mtotal_num_search\u001b[0m\u001b[0;34m]\u001b[0m\u001b[0;34m)\u001b[0m\u001b[0;34m\u001b[0m\u001b[0;34m\u001b[0m\u001b[0m\n\u001b[0m\u001b[1;32m      9\u001b[0m \u001b[0mbest_fx\u001b[0m\u001b[0;34m,\u001b[0m \u001b[0mbest_action\u001b[0m \u001b[0;34m=\u001b[0m \u001b[0mres\u001b[0m\u001b[0;34m.\u001b[0m\u001b[0mexport_all_sequence_best_fx\u001b[0m\u001b[0;34m(\u001b[0m\u001b[0;34m)\u001b[0m\u001b[0;34m\u001b[0m\u001b[0;34m\u001b[0m\u001b[0m\n\u001b[1;32m     10\u001b[0m \u001b[0mprint\u001b[0m\u001b[0;34m(\u001b[0m\u001b[0;34m'current best'\u001b[0m\u001b[0;34m)\u001b[0m\u001b[0;34m\u001b[0m\u001b[0;34m\u001b[0m\u001b[0m\n",
      "\u001b[0;31mNameError\u001b[0m: name 'res' is not defined"
     ]
    }
   ],
   "source": [
    "# The result of searching is summarized in the class combo.search.discrete.results.history()\n",
    "# res.fx: observed negative energy at each step\n",
    "# res.chosed_actions: history of choosed actions\n",
    "# fbest, best_action= res.export_all_sequence_best_fx(): current best fx and current best action \n",
    "# that has been observed until each step\n",
    "# res.total_num_search: total number of search\n",
    "print('f(x)=')\n",
    "print(res.fx[0:res.total_num_search])\n",
    "best_fx, best_action = res.export_all_sequence_best_fx()\n",
    "print('current best')\n",
    "print (best_fx)\n",
    "print ('current best action=')\n",
    "print (best_action)\n",
    "print ('history of chosed actions=')\n",
    "print (res.chosed_actions[0:res.total_num_search])"
   ]
  },
  {
   "cell_type": "code",
   "execution_count": 26,
   "metadata": {},
   "outputs": [],
   "source": [
    "# save the results\n",
    "res.save('./save/test.npz')"
   ]
  },
  {
   "cell_type": "code",
   "execution_count": 27,
   "metadata": {},
   "outputs": [],
   "source": [
    "res.load('./save/test.npz')"
   ]
  },
  {
   "cell_type": "code",
   "execution_count": null,
   "metadata": {},
   "outputs": [],
   "source": []
  }
 ],
 "metadata": {
  "kernelspec": {
   "display_name": "Python 3.6.8 64-bit ('3.6.8': pyenv)",
   "language": "python",
   "name": "python36864bit368pyenv4de30f4d64f04c748a23c8f83a401820"
  },
  "language_info": {
   "codemirror_mode": {
    "name": "ipython",
    "version": 3
   },
   "file_extension": ".py",
   "mimetype": "text/x-python",
   "name": "python",
   "nbconvert_exporter": "python",
   "pygments_lexer": "ipython3",
   "version": "3.6.8-final"
  }
 },
 "nbformat": 4,
 "nbformat_minor": 4
}