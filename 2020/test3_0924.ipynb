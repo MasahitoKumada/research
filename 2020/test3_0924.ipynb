{
 "metadata": {
  "language_info": {
   "codemirror_mode": {
    "name": "ipython",
    "version": 3
   },
   "file_extension": ".py",
   "mimetype": "text/x-python",
   "name": "python",
   "nbconvert_exporter": "python",
   "pygments_lexer": "ipython3",
   "version": "3.6.8-final"
  },
  "orig_nbformat": 2,
  "kernelspec": {
   "name": "python36864bitoverlapdetectvenv74534902bfcf40ad94334cc273d72245",
   "display_name": "Python 3.6.8 64-bit ('overlap_detect': venv)"
  }
 },
 "nbformat": 4,
 "nbformat_minor": 2,
 "cells": [
  {
   "cell_type": "code",
   "execution_count": 1,
   "metadata": {
    "tags": []
   },
   "outputs": [
    {
     "output_type": "stream",
     "name": "stdout",
     "text": "['/Users/mkumada/Documents/class/2020/work/combo3/mywork',\n '/Users/mkumada/.vscode/extensions/ms-python.python-2020.8.108011/pythonFiles',\n '/Users/mkumada/.vscode/extensions/ms-python.python-2020.8.108011/pythonFiles/lib/python',\n '/Users/mkumada/.pyenv/versions/3.6.8/lib/python36.zip',\n '/Users/mkumada/.pyenv/versions/3.6.8/lib/python3.6',\n '/Users/mkumada/.pyenv/versions/3.6.8/lib/python3.6/lib-dynload',\n '',\n '/Users/mkumada/.pyenv/versions/overlap_detect/lib/python3.6/site-packages',\n '/Users/mkumada/.pyenv/versions/overlap_detect/lib/python3.6/site-packages/IPython/extensions',\n '/Users/mkumada/.ipython',\n '/Users/mkumada/.pyenv/versions/3.6.8/envs/combo3/lib/python3.6/site-packages/']\n"
    }
   ],
   "source": [
    "import pprint\n",
    "sys.path.append('/Users/mkumada/.pyenv/versions/3.6.8/envs/combo3/lib/python3.6/site-packages/')\n",
    "pprint.pprint(sys.path)"
   ]
  },
  {
   "cell_type": "code",
   "execution_count": 411,
   "metadata": {},
   "outputs": [],
   "source": [
    "import sys\n",
    "import numpy as np\n",
    "import _pickle as cPickle\n",
    "import scipy\n",
    "import combo\n",
    "import os\n",
    "import urllib\n",
    "import time\n",
    "from combo.variable import variable\n",
    "import random\n",
    "import csv\n",
    "from decimal import *"
   ]
  },
  {
   "cell_type": "code",
   "execution_count": 383,
   "metadata": {},
   "outputs": [],
   "source": [
    "# データ取得\n",
    "def load_data(path):\n",
    "    A = np.loadtxt(path,skiprows=1,delimiter=',')\n",
    "    if A.ndim==1:\n",
    "        A = np.expand_dims(A, axis=0)\n",
    "    X = A[:, :-1]\n",
    "    y  = -A[:, -1]\n",
    "    return X, y, A"
   ]
  },
  {
   "cell_type": "code",
   "execution_count": 377,
   "metadata": {},
   "outputs": [],
   "source": [
    "# 濃度変換\n",
    "def concentration_conversion(X):\n",
    "    if X.ndim==1:\n",
    "        X = X/np.sum(X)\n",
    "    else:\n",
    "        X = X/np.expand_dims(np.sum(X ,axis=1), axis=1)\n",
    "    return X"
   ]
  },
  {
   "cell_type": "code",
   "execution_count": 258,
   "metadata": {},
   "outputs": [],
   "source": [
    "# delta\n",
    "def cost_func(a, b, c):\n",
    "    return np.sqrt((0.2-a)**2+(0.3-b)**2+(0.5-c)**2)"
   ]
  },
  {
   "cell_type": "code",
   "execution_count": 433,
   "metadata": {
    "tags": []
   },
   "outputs": [
    {
     "output_type": "stream",
     "name": "stdout",
     "text": "[2.         3.         2.         0.26418917]\n[2.         2.         3.         0.11248583]\n[2.         3.         2.         0.26418917]\n[3.         2.         2.         0.31363569]\n[2.         3.         2.         0.26418917]\n"
    }
   ],
   "source": [
    "# N種類の材料をランダムに1ずつ添加する\n",
    "N = 3\n",
    "ITER_NUM = 5\n",
    "TRAIN_PATH = './data/train2.csv'\n",
    "\n",
    "for _ in range(ITER_NUM):\n",
    "    select_arr = np.eye(N, dtype=float) # one hot matrix\n",
    "    X_train, _, _ = load_data(TRAIN_PATH) # read data\n",
    "    update_quantity = X_train[-1] + select_arr[random.randrange(N)] # N種類の材料から１つをランダムに選び、1足す.\n",
    "    update_quantity_ratio = concentration_conversion(update_quantity) # 濃度に変換する.\n",
    "    delta = cost_func(update_quantity_ratio[0], update_quantity_ratio[1], update_quantity_ratio[2]) # 目指す匂いの目的関数との誤差\n",
    "    new_data= np.append(update_quantity, delta)\n",
    "\n",
    "    print(new_data)\n",
    "\n",
    "    with open(TRAIN_PATH, mode='a', newline='') as f:\n",
    "        writer = csv.writer(f)\n",
    "        writer.writerow(new_data)"
   ]
  },
  {
   "cell_type": "code",
   "execution_count": 431,
   "metadata": {
    "tags": [
     "outputPrepend"
    ]
   },
   "outputs": [
    {
     "output_type": "stream",
     "name": "stdout",
     "text": ".0311232454155\n150-th epoch, marginal likelihood -78.11347556117555\n200-th epoch, marginal likelihood -79.96195753459483\n250-th epoch, marginal likelihood -81.64197872701935\n300-th epoch, marginal likelihood -83.19739845008046\n350-th epoch, marginal likelihood -84.65821486923515\n400-th epoch, marginal likelihood -86.04535285490628\n450-th epoch, marginal likelihood -87.37367852578757\n500-th epoch, marginal likelihood -88.6539293527623\nDone\n\n Parameters of Gaussian kernel \n \n width  =  [3.]\n scale  =  1.0\n scale2 =  1.0\n \n\nFitting ends\nCalculating score for test data\n2\n[0.  0.  0.1]\nFitting starts\nStart the initial hyper parameter searching ...\nDone\n\nStart the hyper parameter learning ...\n0-th epoch, marginal likelihood -73.79065597567639\n50-th epoch, marginal likelihood -76.77316056137329\n100-th epoch, marginal likelihood -79.27061433786862\n150-th epoch, marginal likelihood -81.42573337642435\n200-th epoch, marginal likelihood -83.34022041411713\n250-th epoch, marginal likelihood -85.0813840187123\n300-th epoch, marginal likelihood -86.69437359776568\n350-th epoch, marginal likelihood -88.21006890477041\n400-th epoch, marginal likelihood -89.65000122578942\n450-th epoch, marginal likelihood -91.02945466961367\n500-th epoch, marginal likelihood -92.35945274986288\nDone\n\n Parameters of Gaussian kernel \n \n width  =  [3.]\n scale  =  1.0\n scale2 =  1.0\n \n\nFitting ends\nCalculating score for test data\n1\n[0.  0.1 0. ]\nFitting starts\nStart the initial hyper parameter searching ...\nDone\n\nStart the hyper parameter learning ...\n0-th epoch, marginal likelihood -76.83649306841916\n50-th epoch, marginal likelihood -79.92987197703955\n100-th epoch, marginal likelihood -82.50757828548615\n150-th epoch, marginal likelihood -84.73420260837285\n200-th epoch, marginal likelihood -86.71316108490166\n250-th epoch, marginal likelihood -88.51355267764225\n300-th epoch, marginal likelihood -90.18183287772136\n350-th epoch, marginal likelihood -91.74980198508858\n400-th epoch, marginal likelihood -93.23963360579053\n450-th epoch, marginal likelihood -94.66705715458824\n500-th epoch, marginal likelihood -96.043400787919\nDone\n\n Parameters of Gaussian kernel \n \n width  =  [3.]\n scale  =  1.0\n scale2 =  1.0\n \n\nFitting ends\nCalculating score for test data\n1\n[0.  0.1 0. ]\nFitting starts\nStart the initial hyper parameter searching ...\nDone\n\nStart the hyper parameter learning ...\n0-th epoch, marginal likelihood -79.87152631380457\n50-th epoch, marginal likelihood -83.07448293189883\n100-th epoch, marginal likelihood -85.73407423348465\n150-th epoch, marginal likelihood -88.03175767521914\n200-th epoch, marginal likelihood -90.07405523446329\n250-th epoch, marginal likelihood -91.93204412916174\n300-th epoch, marginal likelihood -93.6536143888714\n350-th epoch, marginal likelihood -95.27157734264107\n400-th epoch, marginal likelihood -96.80881654704174\n450-th epoch, marginal likelihood -98.28156019640252\n500-th epoch, marginal likelihood -99.701486558615\nDone\n\n Parameters of Gaussian kernel \n \n width  =  [3.]\n scale  =  1.0\n scale2 =  1.0\n \n\nFitting ends\nCalculating score for test data\n1\n[0.  0.1 0. ]\nFitting starts\nStart the initial hyper parameter searching ...\nDone\n\nStart the hyper parameter learning ...\n0-th epoch, marginal likelihood -82.8942804686195\n50-th epoch, marginal likelihood -86.2075573865233\n100-th epoch, marginal likelihood -88.95125531357046\n150-th epoch, marginal likelihood -91.32028614671384\n200-th epoch, marginal likelihood -93.42578250323118\n250-th epoch, marginal likelihood -95.34095603672078\n300-th epoch, marginal likelihood -97.11525312568033\n350-th epoch, marginal likelihood -98.78258976136662\n400-th epoch, marginal likelihood -100.36663680450272\n450-th epoch, marginal likelihood -101.88419069264032\n500-th epoch, marginal likelihood -103.34734769745313\nDone\n\n Parameters of Gaussian kernel \n \n width  =  [3.]\n scale  =  1.0\n scale2 =  1.0\n \n\nFitting ends\nCalculating score for test data\n2\n[0.  0.  0.1]\nFitting starts\nStart the initial hyper parameter searching ...\nDone\n\nStart the hyper parameter learning ...\n0-th epoch, marginal likelihood -85.9556986504442\n50-th epoch, marginal likelihood -89.38278055128502\n100-th epoch, marginal likelihood -92.21216506131205\n150-th epoch, marginal likelihood -94.6526886484588\n200-th epoch, marginal likelihood -96.82203981746738\n250-th epoch, marginal likelihood -98.79535315372448\n300-th epoch, marginal likelihood -100.6234651650764\n350-th epoch, marginal likelihood -102.34127868743745\n400-th epoch, marginal likelihood -103.97315799901128\n450-th epoch, marginal likelihood -105.53638738876072\n500-th epoch, marginal likelihood -107.04340821849235\nDone\n\n Parameters of Gaussian kernel \n \n width  =  [3.]\n scale  =  1.0\n scale2 =  1.0\n \n\nFitting ends\nCalculating score for test data\n1\n[0.  0.1 0. ]\nFitting starts\nStart the initial hyper parameter searching ...\nDone\n\nStart the hyper parameter learning ...\n0-th epoch, marginal likelihood -88.98158879343906\n50-th epoch, marginal likelihood -92.53709492137611\n100-th epoch, marginal likelihood -95.46058612622625\n150-th epoch, marginal likelihood -97.97441259304227\n200-th epoch, marginal likelihood -100.20866704971706\n250-th epoch, marginal likelihood -102.24108118111991\n300-th epoch, marginal likelihood -104.1238858019533\n350-th epoch, marginal likelihood -105.89302603595607\n400-th epoch, marginal likelihood -107.57364012913254\n450-th epoch, marginal likelihood -109.18359194875057\n500-th epoch, marginal likelihood -110.73576781173381\nDone\n\n Parameters of Gaussian kernel \n \n width  =  [3.]\n scale  =  1.0\n scale2 =  1.0\n \n\nFitting ends\nCalculating score for test data\n1\n[0.  0.1 0. ]\nFitting starts\nStart the initial hyper parameter searching ...\nDone\n\nStart the hyper parameter learning ...\n0-th epoch, marginal likelihood -91.98221803539943\n50-th epoch, marginal likelihood -95.6783714468585\n100-th epoch, marginal likelihood -98.70770930264308\n150-th epoch, marginal likelihood -101.29963007672846\n200-th epoch, marginal likelihood -103.6005787737294\n250-th epoch, marginal likelihood -105.69385669982228\n300-th epoch, marginal likelihood -107.6334130118946\n350-th epoch, marginal likelihood -109.45625017263355\n400-th epoch, marginal likelihood -111.18832214873055\n450-th epoch, marginal likelihood -112.84814258372926\n500-th epoch, marginal likelihood -114.44913086301266\nDone\n\n Parameters of Gaussian kernel \n \n width  =  [3.]\n scale  =  1.0\n scale2 =  1.0\n \n\nFitting ends\nCalculating score for test data\n2\n[0.  0.  0.1]\nFitting starts\nStart the initial hyper parameter searching ...\nDone\n\nStart the hyper parameter learning ...\n0-th epoch, marginal likelihood -95.03703687481482\n50-th epoch, marginal likelihood -98.86127537792676\n100-th epoch, marginal likelihood -101.99261735570953\n150-th epoch, marginal likelihood -104.663916330155\n200-th epoch, marginal likelihood -107.03173720291116\n250-th epoch, marginal likelihood -109.18523511334715\n300-th epoch, marginal likelihood -111.18062525759271\n350-th epoch, marginal likelihood -113.05602224773187\n400-th epoch, marginal likelihood -114.83813229874782\n450-th epoch, marginal likelihood -116.54604071780514\n500-th epoch, marginal likelihood -118.19362228381908\nDone\n\n Parameters of Gaussian kernel \n \n width  =  [3.]\n scale  =  1.0\n scale2 =  1.0\n \n\nFitting ends\nCalculating score for test data\n1\n[0.  0.1 0. ]\nFitting starts\nStart the initial hyper parameter searching ...\nDone\n\nStart the hyper parameter learning ...\n0-th epoch, marginal likelihood -98.06977799770364\n50-th epoch, marginal likelihood -102.03404678141449\n100-th epoch, marginal likelihood -105.27753925047179\n150-th epoch, marginal likelihood -108.03517876587651\n200-th epoch, marginal likelihood -110.47370803385299\n250-th epoch, marginal likelihood -112.6899927754928\n300-th epoch, marginal likelihood -114.74376997509425\n350-th epoch, marginal likelihood -116.67466997677856\n400-th epoch, marginal likelihood -118.51025824822416\n450-th epoch, marginal likelihood -120.27026059398533\n500-th epoch, marginal likelihood -121.96908998704183\nDone\n\n Parameters of Gaussian kernel \n \n width  =  [3.]\n scale  =  1.0\n scale2 =  1.0\n \n\nFitting ends\nCalculating score for test data\n1\n[0.  0.1 0. ]\nFitting starts\nStart the initial hyper parameter searching ...\nDone\n\nStart the hyper parameter learning ...\n0-th epoch, marginal likelihood -101.07325570698806\n50-th epoch, marginal likelihood -105.1973897404895\n100-th epoch, marginal likelihood -108.56914699192328\n150-th epoch, marginal likelihood -111.4242614255644\n200-th epoch, marginal likelihood -113.93969850404994\n250-th epoch, marginal likelihood -116.22206802532197\n300-th epoch, marginal likelihood -118.33674725974035\n350-th epoch, marginal likelihood -120.3259373690523\n400-th epoch, marginal likelihood -122.21833844836684\n450-th epoch, marginal likelihood -124.03429803152011\n500-th epoch, marginal likelihood -125.78868621747526\nDone\n\n Parameters of Gaussian kernel \n \n width  =  [3.]\n scale  =  1.0\n scale2 =  1.0\n \n\nFitting ends\nCalculating score for test data\n2\n[0.  0.  0.1]\nFitting starts\nStart the initial hyper parameter searching ...\nDone\n\nStart the hyper parameter learning ...\n0-th epoch, marginal likelihood -104.15981456094848\n50-th epoch, marginal likelihood -108.41408517963461\n100-th epoch, marginal likelihood -111.89339197222883\n150-th epoch, marginal likelihood -114.83692163230795\n200-th epoch, marginal likelihood -117.42678109124161\n250-th epoch, marginal likelihood -119.77439589602898\n300-th epoch, marginal likelihood -121.94869157207393\n350-th epoch, marginal likelihood -123.99408008801869\n400-th epoch, marginal likelihood -125.94053667739284\n450-th epoch, marginal likelihood -127.80917322526183\n500-th epoch, marginal likelihood -129.61538606400833\nDone\n\n Parameters of Gaussian kernel \n \n width  =  [3.]\n scale  =  1.0\n scale2 =  1.0\n \n\nFitting ends\nCalculating score for test data\n1\n[0.  0.1 0. ]\nFitting starts\nStart the initial hyper parameter searching ...\nDone\n\nStart the hyper parameter learning ...\n0-th epoch, marginal likelihood -107.2292822453376\n50-th epoch, marginal likelihood -111.62692335765061\n100-th epoch, marginal likelihood -115.2244895957989\n150-th epoch, marginal likelihood -118.26449954535403\n200-th epoch, marginal likelihood -120.9347847732436\n250-th epoch, marginal likelihood -123.35228315680641\n300-th epoch, marginal likelihood -125.5901409061893\n350-th epoch, marginal likelihood -127.6955263972755\n400-th epoch, marginal likelihood -129.70002908499438\n450-th epoch, marginal likelihood -131.62566531103985\n500-th epoch, marginal likelihood -133.4883612760638\nDone\n\n Parameters of Gaussian kernel \n \n width  =  [3.]\n scale  =  1.0\n scale2 =  1.0\n \n\nFitting ends\nCalculating score for test data\n2\n[0.  0.  0.1]\nFitting starts\nStart the initial hyper parameter searching ...\nDone\n\nStart the hyper parameter learning ...\n0-th epoch, marginal likelihood -110.3131815937795\n50-th epoch, marginal likelihood -114.85334353322882\n100-th epoch, marginal likelihood -118.56780554762764\n150-th epoch, marginal likelihood -121.70321592121141\n200-th epoch, marginal likelihood -124.45300842606788\n250-th epoch, marginal likelihood -126.93908290496562\n300-th epoch, marginal likelihood -129.23843931934633\n350-th epoch, marginal likelihood -131.40095197841163\n400-th epoch, marginal likelihood -133.45994026074015\n450-th epoch, marginal likelihood -135.43844605641408\n500-th epoch, marginal likelihood -137.35298983862444\nDone\n\n Parameters of Gaussian kernel \n \n width  =  [3.]\n scale  =  1.0\n scale2 =  1.0\n \n\nFitting ends\nCalculating score for test data\n2\n[0.  0.  0.1]\nFitting starts\nStart the initial hyper parameter searching ...\nDone\n\nStart the hyper parameter learning ...\n0-th epoch, marginal likelihood -113.38911215226315\n50-th epoch, marginal likelihood -118.07552231276723\n100-th epoch, marginal likelihood -121.90821978693045\n150-th epoch, marginal likelihood -125.13864993526704\n200-th epoch, marginal likelihood -127.96643677858867\n250-th epoch, marginal likelihood -130.51855003771513\n300-th epoch, marginal likelihood -132.87573874892104\n350-th epoch, marginal likelihood -135.0905055639935\n400-th epoch, marginal likelihood -137.19789825674223\n450-th epoch, marginal likelihood -139.2220002184038\n500-th epoch, marginal likelihood -141.17990221718892\nDone\n\n Parameters of Gaussian kernel \n \n width  =  [3.]\n scale  =  1.0\n scale2 =  1.0\n \n\nFitting ends\nCalculating score for test data\n1\n[0.  0.1 0. ]\nFitting starts\nStart the initial hyper parameter searching ...\nDone\n\nStart the hyper parameter learning ...\n0-th epoch, marginal likelihood -116.55014318816784\n50-th epoch, marginal likelihood -121.35619736535185\n100-th epoch, marginal likelihood -125.28829665208988\n150-th epoch, marginal likelihood -128.6043203019488\n200-th epoch, marginal likelihood -131.507726027612\n250-th epoch, marginal likelihood -134.12790648462948\n300-th epoch, marginal likelihood -136.54753019672705\n350-th epoch, marginal likelihood -138.82068285195263\n400-th epoch, marginal likelihood -140.98366174806995\n450-th epoch, marginal likelihood -143.06147853137716\n500-th epoch, marginal likelihood -145.07187749453223\nDone\n\n Parameters of Gaussian kernel \n \n width  =  [3.]\n scale  =  1.0\n scale2 =  1.0\n \n\nFitting ends\nCalculating score for test data\n1\n[0.  0.1 0. ]\nFitting starts\nStart the initial hyper parameter searching ...\nDone\n\nStart the hyper parameter learning ...\n0-th epoch, marginal likelihood -119.60989497947426\n50-th epoch, marginal likelihood -124.59420524134771\n100-th epoch, marginal likelihood -128.6706990143521\n150-th epoch, marginal likelihood -132.10127099399324\n200-th epoch, marginal likelihood -135.09735823376596\n250-th epoch, marginal likelihood -137.79534239979114\n300-th epoch, marginal likelihood -140.2830725565004\n350-th epoch, marginal likelihood -142.6183312680341\n400-th epoch, marginal likelihood -144.83999516638323\n450-th epoch, marginal likelihood -146.97477040489957\n500-th epoch, marginal likelihood -149.04139223374167\nDone\n\n Parameters of Gaussian kernel \n \n width  =  [3.]\n scale  =  1.0\n scale2 =  1.0\n \n\nFitting ends\nCalculating score for test data\n2\n[0.  0.  0.1]\nFitting starts\nStart the initial hyper parameter searching ...\nDone\n\nStart the hyper parameter learning ...\n0-th epoch, marginal likelihood -122.8081426622413\n50-th epoch, marginal likelihood -127.91830840046511\n100-th epoch, marginal likelihood -132.09738888264852\n150-th epoch, marginal likelihood -135.61417025866845\n200-th epoch, marginal likelihood -138.68507890100412\n250-th epoch, marginal likelihood -141.44968378380355\n300-th epoch, marginal likelihood -143.9980686789217\n350-th epoch, marginal likelihood -146.38969779419182\n400-th epoch, marginal likelihood -148.6647475778564\n450-th epoch, marginal likelihood -150.85090739295254\n500-th epoch, marginal likelihood -152.9676104977226\nDone\n\n Parameters of Gaussian kernel \n \n width  =  [3.]\n scale  =  1.0\n scale2 =  1.0\n \n\nFitting ends\nCalculating score for test data\n2\n[0.  0.  0.1]\nFitting starts\nStart the initial hyper parameter searching ...\nDone\n\nStart the hyper parameter learning ...\n0-th epoch, marginal likelihood -125.96282254828319\n50-th epoch, marginal likelihood -131.20907797442507\n100-th epoch, marginal likelihood -135.49647214225482\n150-th epoch, marginal likelihood -139.1009464563526\n200-th epoch, marginal likelihood -142.24514549473713\n250-th epoch, marginal likelihood -145.0727699600255\n300-th epoch, marginal likelihood -147.6766087837069\n350-th epoch, marginal likelihood -150.1179588245512\n400-th epoch, marginal likelihood -152.4382977329303\n450-th epoch, marginal likelihood -154.66626009692558\n500-th epoch, marginal likelihood -156.82195179022077\nDone\n\n Parameters of Gaussian kernel \n \n width  =  [3.]\n scale  =  1.0\n scale2 =  1.0\n \n\nFitting ends\nCalculating score for test data\n2\n[0.  0.  0.1]\nFitting starts\nStart the initial hyper parameter searching ...\nDone\n\nStart the hyper parameter learning ...\n0-th epoch, marginal likelihood -129.09225537311445\n50-th epoch, marginal likelihood -134.47929093915064\n100-th epoch, marginal likelihood -138.87566726393405\n150-th epoch, marginal likelihood -142.56493303325936\n200-th epoch, marginal likelihood -145.77703332827758\n250-th epoch, marginal likelihood -148.66059558748054\n300-th epoch, marginal likelihood -151.3115069655344\n350-th epoch, marginal likelihood -153.79300237666692\n400-th epoch, marginal likelihood -156.14781236548546\n450-th epoch, marginal likelihood -158.40542309732862\n500-th epoch, marginal likelihood -160.58654915669075\nDone\n\n Parameters of Gaussian kernel \n \n width  =  [3.]\n scale  =  1.0\n scale2 =  1.0\n \n\nFitting ends\nCalculating score for test data\n1\n[0.  0.1 0. ]\nFitting starts\nStart the initial hyper parameter searching ...\nDone\n\nStart the hyper parameter learning ...\n0-th epoch, marginal likelihood -133.39302169475638\n50-th epoch, marginal likelihood -138.38152915795155\n100-th epoch, marginal likelihood -142.5641315326722\n150-th epoch, marginal likelihood -146.16279053489785\n200-th epoch, marginal likelihood -149.35061422718343\n250-th epoch, marginal likelihood -152.24368057672154\n300-th epoch, marginal likelihood -154.9206123164314\n350-th epoch, marginal likelihood -157.43554787581894\n400-th epoch, marginal likelihood -159.82645758254262\n450-th epoch, marginal likelihood -162.12049587960445\n500-th epoch, marginal likelihood -164.33746505444165\nDone\n\n Parameters of Gaussian kernel \n \n width  =  [3.]\n scale  =  1.0\n scale2 =  1.0\n \n\nFitting ends\nCalculating score for test data\n2\n[0.  0.  0.1]\nFitting starts\nStart the initial hyper parameter searching ...\nDone\n\nStart the hyper parameter learning ...\n0-th epoch, marginal likelihood -135.32821742900572\n50-th epoch, marginal likelihood -141.00820269932416\n100-th epoch, marginal likelihood -145.6348184252723\n150-th epoch, marginal likelihood -149.5081095798756\n200-th epoch, marginal likelihood -152.87235606966198\n250-th epoch, marginal likelihood -155.88566125246658\n300-th epoch, marginal likelihood -158.65003658683588\n350-th epoch, marginal likelihood -161.2327930838601\n400-th epoch, marginal likelihood -163.67955228066637\n450-th epoch, marginal likelihood -166.02202144088602\n500-th epoch, marginal likelihood -168.28275574580482\nDone\n\n Parameters of Gaussian kernel \n \n width  =  [3.]\n scale  =  1.0\n scale2 =  1.0\n \n\nFitting ends\nCalculating score for test data\n1\n[0.  0.1 0. ]\nFitting starts\nStart the initial hyper parameter searching ...\nDone\n\nStart the hyper parameter learning ...\n0-th epoch, marginal likelihood -139.8695780417893\n50-th epoch, marginal likelihood -145.0723710278387\n100-th epoch, marginal likelihood -149.43554988551324\n150-th epoch, marginal likelihood -153.18624503898056\n200-th epoch, marginal likelihood -156.50559443192242\n250-th epoch, marginal likelihood -159.51516418280633\n300-th epoch, marginal likelihood -162.29745114387475\n350-th epoch, marginal likelihood -164.9094319781622\n400-th epoch, marginal likelihood -167.39126138519052\n450-th epoch, marginal likelihood -169.77188048317868\n500-th epoch, marginal likelihood -172.07264783163706\nDone\n\n Parameters of Gaussian kernel \n \n width  =  [3.]\n scale  =  1.0\n scale2 =  1.0\n \n\nFitting ends\nCalculating score for test data\n1\n[0.  0.1 0. ]\nFitting starts\nStart the initial hyper parameter searching ...\nDone\n\nStart the hyper parameter learning ...\n0-th epoch, marginal likelihood -143.1404092589072\n50-th epoch, marginal likelihood -148.4616742313224\n100-th epoch, marginal likelihood -152.92464036756985\n150-th epoch, marginal likelihood -156.76099343688438\n200-th epoch, marginal likelihood -160.15617025594617\n250-th epoch, marginal likelihood -163.23479849173145\n300-th epoch, marginal likelihood -166.08156615891733\n350-th epoch, marginal likelihood -168.75502045934982\n400-th epoch, marginal likelihood -171.2964346419482\n450-th epoch, marginal likelihood -173.7355298477443\n500-th epoch, marginal likelihood -176.09418502713305\nDone\n\n Parameters of Gaussian kernel \n \n width  =  [3.]\n scale  =  1.0\n scale2 =  1.0\n \n\nFitting ends\nCalculating score for test data\n1\n[0.  0.1 0. ]\n"
    }
   ],
   "source": [
    "# N種類の材料からベイズ最適化で添加する\n",
    "N = 3\n",
    "ITER_NUM = 50\n",
    "TRAIN_PATH = './data/train2.csv'\n",
    "OUT_PATH = './data/out2.csv'\n",
    "THRESHOLD_VAL =  0.15\n",
    "SCALE_FACTOR =  0.1\n",
    "\n",
    "for _ in range(ITER_NUM):\n",
    "\n",
    "    X_train, t_train, X = load_data(OUT_PATH)\n",
    "\n",
    "    if np.abs(t_train[-1]) > THRESHOLD_VAL:\n",
    "        X_test = np.eye(N, dtype=float) # one hot matrix\n",
    "    else:\n",
    "        X_test = SCALE_FACTOR * np.eye(N, dtype=float) # one hot matrix\n",
    "\n",
    "    X_train_ratio = concentration_conversion(X_train)\n",
    "\n",
    "    # feature vector の各要素を正規化します。\n",
    "    ave = np.mean(X_train_ratio, axis=0)\n",
    "    std = np.std(X_train_ratio, axis=0)\n",
    "    X_train_ratio = (X_train_ratio - ave) / (std + 1e-8)\n",
    "    X_test_ratio = (X_test - ave) / (std + 1e-8)\n",
    "\n",
    "    train_data = variable(X=X_train_ratio, t=t_train)\n",
    "    test_data = variable(X=X_test_ratio)\n",
    "\n",
    "    policy = combo.search.discrete.policy(test_X=test_data)\n",
    "    # set the seed parameter\n",
    "    policy.set_seed(0)\n",
    "    action = policy.bayes_search_single(training=train_data, score='TS', num_rand_basis=5000)\n",
    "    # score: 獲得関数(acquisition function) のタイプ。\n",
    "    # TS (Thompson Sampling)\n",
    "    # EI (Expected Improvement)\n",
    "    # PI (Probability of Improvement)\n",
    "\n",
    "    print(action)\n",
    "    print(X_test[action])\n",
    "\n",
    "    update_quantity = X_train[-1] + X_test[action]\n",
    "    update_quantity_ratio = concentration_conversion(update_quantity) # 濃度に変換する.\n",
    "    delta = cost_func(update_quantity_ratio[0], update_quantity_ratio[1], update_quantity_ratio[2]) # 目指す匂いの目的関数との誤差\n",
    "\n",
    "    new_data = np.append(np.round(update_quantity, decimals=5), delta)\n",
    "\n",
    "    with open(OUT_PATH, mode='a', newline='') as f:\n",
    "        writer = csv.writer(f)\n",
    "        writer.writerow(new_data)\n"
   ]
  },
  {
   "cell_type": "code",
   "execution_count": null,
   "metadata": {},
   "outputs": [],
   "source": []
  }
 ]
}