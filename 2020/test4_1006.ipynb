{
 "metadata": {
  "language_info": {
   "codemirror_mode": {
    "name": "ipython",
    "version": 3
   },
   "file_extension": ".py",
   "mimetype": "text/x-python",
   "name": "python",
   "nbconvert_exporter": "python",
   "pygments_lexer": "ipython3",
   "version": "3.6.8-final"
  },
  "orig_nbformat": 2,
  "kernelspec": {
   "name": "python36864bitoverlapdetectvenv74534902bfcf40ad94334cc273d72245",
   "display_name": "Python 3.6.8 64-bit ('overlap_detect': venv)"
  }
 },
 "nbformat": 4,
 "nbformat_minor": 2,
 "cells": [
  {
   "cell_type": "markdown",
   "metadata": {},
   "source": [
    "## comboを使うための準備"
   ]
  },
  {
   "cell_type": "code",
   "execution_count": 1,
   "metadata": {
    "tags": []
   },
   "outputs": [
    {
     "output_type": "stream",
     "name": "stdout",
     "text": "['/Users/mkumada/Documents/class/2020/work/combo3/mywork',\n '/Users/mkumada/.vscode/extensions/ms-python.python-2020.8.108011/pythonFiles',\n '/Users/mkumada/.vscode/extensions/ms-python.python-2020.8.108011/pythonFiles/lib/python',\n '/Users/mkumada/.pyenv/versions/3.6.8/lib/python36.zip',\n '/Users/mkumada/.pyenv/versions/3.6.8/lib/python3.6',\n '/Users/mkumada/.pyenv/versions/3.6.8/lib/python3.6/lib-dynload',\n '',\n '/Users/mkumada/.pyenv/versions/overlap_detect/lib/python3.6/site-packages',\n '/Users/mkumada/.pyenv/versions/overlap_detect/lib/python3.6/site-packages/IPython/extensions',\n '/Users/mkumada/.ipython',\n '/Users/mkumada/.pyenv/versions/3.6.8/envs/combo3/lib/python3.6/site-packages/']\n"
    }
   ],
   "source": [
    "import pprint\n",
    "sys.path.append('/Users/mkumada/.pyenv/versions/3.6.8/envs/combo3/lib/python3.6/site-packages/')\n",
    "pprint.pprint(sys.path)"
   ]
  },
  {
   "cell_type": "markdown",
   "metadata": {},
   "source": [
    "## 使用ライブラリ、関数"
   ]
  },
  {
   "cell_type": "code",
   "execution_count": 2,
   "metadata": {},
   "outputs": [],
   "source": [
    "import sys\n",
    "import numpy as np\n",
    "import _pickle as cPickle\n",
    "import scipy\n",
    "import combo\n",
    "import os\n",
    "import urllib\n",
    "import time\n",
    "from combo.variable import variable\n",
    "import random\n",
    "import csv\n",
    "from decimal import *"
   ]
  },
  {
   "cell_type": "code",
   "execution_count": 3,
   "metadata": {},
   "outputs": [],
   "source": [
    "# データ取得\n",
    "def load_data(path):\n",
    "    A = np.loadtxt(path,skiprows=1,delimiter=',')\n",
    "    if A.ndim==1:\n",
    "        A = np.expand_dims(A, axis=0)\n",
    "    X = A[:, :-1]\n",
    "    y  = -A[:, -1]\n",
    "    return X, y, A"
   ]
  },
  {
   "cell_type": "code",
   "execution_count": 14,
   "metadata": {},
   "outputs": [],
   "source": [
    "    def add_data_in_file(path, data):\n",
    "        with open(path, mode='a', newline='') as f:\n",
    "            writer = csv.writer(f)\n",
    "            writer.writerow(data)"
   ]
  },
  {
   "cell_type": "code",
   "execution_count": 5,
   "metadata": {},
   "outputs": [],
   "source": [
    "# 濃度変換\n",
    "def concentration_conversion(X):\n",
    "    if X.ndim==1:\n",
    "        X = X/np.sum(X)\n",
    "    else:\n",
    "        X = X/np.expand_dims(np.sum(X ,axis=1), axis=1)\n",
    "    return X"
   ]
  },
  {
   "cell_type": "code",
   "execution_count": 6,
   "metadata": {},
   "outputs": [],
   "source": [
    "# delta\n",
    "def cost_func(a, b, c):\n",
    "    return np.sqrt((0.2-a)**2+(0.3-b)**2+(0.5-c)**2)"
   ]
  },
  {
   "cell_type": "markdown",
   "metadata": {},
   "source": [
    "## 基本方策：\n",
    "\t\t材料A, B, Cの中から１つランダルに選択し, 1ずつ添加する.\n",
    "     \n",
    "## 追加方策：\n",
    "\t\t目的関数との誤差がTHRESHOLD_VAL(0.5)を下回ると,\n",
    "\t\tSCALE_FACTOR(0.1)*1 添加する.\n",
    "\n",
    "## ゴール：\n",
    "\t\t目的関数との誤差がMIN_VAL(1e-2)を下回ると探索成功.\n"
   ]
  },
  {
   "cell_type": "markdown",
   "metadata": {},
   "source": [
    "## 最初は、ランダムにデータを入れる"
   ]
  },
  {
   "cell_type": "code",
   "execution_count": 27,
   "metadata": {
    "tags": []
   },
   "outputs": [],
   "source": [
    "# N種類の材料をランダムに1添加する\n",
    "N = 3\n",
    "TRAIN_PATH = './data/train3.csv'\n",
    "\n",
    "select_arr = np.eye(N, dtype=float) # one hot matrix\n",
    "update_quantity = select_arr[random.randrange(N)] # N種類の材料から１つをランダムに選び、1足す.\n",
    "update_quantity_ratio = concentration_conversion(update_quantity) # 濃度に変換する.\n",
    "delta = cost_func(update_quantity_ratio[0], update_quantity_ratio[1], update_quantity_ratio[2]) # 目指す匂いの目的関数との誤差\n",
    "new_data= np.append(update_quantity, delta)\n",
    "\n",
    "add_data_in_file(TRAIN_PATH, new_data)"
   ]
  },
  {
   "cell_type": "markdown",
   "metadata": {},
   "source": [
    "## Random 探索"
   ]
  },
  {
   "cell_type": "code",
   "execution_count": 46,
   "metadata": {
    "tags": []
   },
   "outputs": [
    {
     "output_type": "stream",
     "name": "stdout",
     "text": "50回目の試行で収束しませんでした. data:[3.6 2.6 2.5], delta:0.30153962612290464\n"
    }
   ],
   "source": [
    "# N種類の材料をランダムに1ずつ添加する\n",
    "N = 3\n",
    "ITER_NUM = 50\n",
    "TRAIN_PATH = './data/train3.csv'\n",
    "OUT_PATH = './data/out3-1.csv'\n",
    "\n",
    "THRESHOLD_VAL =  0.5\n",
    "SCALE_FACTOR =  0.1\n",
    "MIN_VAL = 1e-2\n",
    "\n",
    "for i in range(ITER_NUM):\n",
    "\n",
    "    X_train, t_train, _ = load_data(OUT_PATH) # read data\n",
    "\n",
    "    if np.abs(t_train[-1]) > THRESHOLD_VAL:\n",
    "        X_test = np.eye(N, dtype=float) # one hot matrix\n",
    "    else:\n",
    "        X_test = SCALE_FACTOR * np.eye(N, dtype=float) # one hot matrix\n",
    "\n",
    "    update_quantity = X_train[-1] + X_test[random.randrange(N)] # N種類の材料から１つをランダムに選び、1足す.\n",
    "    update_quantity_ratio = concentration_conversion(update_quantity) # 濃度に変換する.\n",
    "    delta = cost_func(update_quantity_ratio[0], update_quantity_ratio[1], update_quantity_ratio[2]) # 目指す匂いの目的関数との誤差\n",
    "    new_data= np.append(np.round(update_quantity, decimals=5), delta)\n",
    "\n",
    "    add_data_in_file(OUT_PATH, new_data)\n",
    "\n",
    "    if delta  < MIN_VAL:\n",
    "        print('{}回目で収束. data:{}, delta:{}'.format(i, new_data[:-1],delta))\n",
    "        break\n",
    "\n",
    "print('{}回目の試行で収束しませんでした. data:{}, delta:{}'.format(ITER_NUM, new_data[:-1], delta))\n"
   ]
  },
  {
   "cell_type": "markdown",
   "metadata": {},
   "source": [
    "##  ベイズ最適化"
   ]
  },
  {
   "cell_type": "code",
   "execution_count": 49,
   "metadata": {
    "tags": [
     "outputPrepend"
    ]
   },
   "outputs": [
    {
     "output_type": "stream",
     "name": "stdout",
     "text": "likelihood -66.15431440352022\n200-th epoch, marginal likelihood -67.40802619211573\n250-th epoch, marginal likelihood -68.63909412545374\n300-th epoch, marginal likelihood -69.85712708683901\n350-th epoch, marginal likelihood -71.06676725435008\n400-th epoch, marginal likelihood -72.27010245538077\n450-th epoch, marginal likelihood -73.4680479516342\n500-th epoch, marginal likelihood -74.66103145203363\nDone\n\n Parameters of Gaussian kernel \n \n width  =  [3.]\n scale  =  1.0\n scale2 =  1.0\n \n\nFitting ends\nCalculating score for test data\n1\n[0.  0.1 0. ]\nFitting starts\nStart the initial hyper parameter searching ...\nDone\n\nStart the hyper parameter learning ...\n0-th epoch, marginal likelihood -64.71425765064346\n50-th epoch, marginal likelihood -66.43049300284093\n100-th epoch, marginal likelihood -67.88622751651911\n150-th epoch, marginal likelihood -69.23536477911023\n200-th epoch, marginal likelihood -70.540946625949\n250-th epoch, marginal likelihood -71.82402823820411\n300-th epoch, marginal likelihood -73.09427381554451\n350-th epoch, marginal likelihood -74.35628390704682\n400-th epoch, marginal likelihood -75.61209795751223\n450-th epoch, marginal likelihood -76.86258179391483\n500-th epoch, marginal likelihood -78.10811929789404\nDone\n\n Parameters of Gaussian kernel \n \n width  =  [3.]\n scale  =  1.0\n scale2 =  1.0\n \n\nFitting ends\nCalculating score for test data\n2\n[0.  0.  0.1]\nFitting starts\nStart the initial hyper parameter searching ...\nDone\n\nStart the hyper parameter learning ...\n0-th epoch, marginal likelihood -67.63279322294976\n50-th epoch, marginal likelihood -69.39534548742262\n100-th epoch, marginal likelihood -70.90569532559049\n150-th epoch, marginal likelihood -72.31674236912448\n200-th epoch, marginal likelihood -73.68324727772753\n250-th epoch, marginal likelihood -75.02534550584838\n300-th epoch, marginal likelihood -76.35321624154764\n350-th epoch, marginal likelihood -77.67181831392602\n400-th epoch, marginal likelihood -78.98341697187223\n450-th epoch, marginal likelihood -80.28903373437973\n500-th epoch, marginal likelihood -81.58916598472592\nDone\n\n Parameters of Gaussian kernel \n \n width  =  [3.]\n scale  =  1.0\n scale2 =  1.0\n \n\nFitting ends\nCalculating score for test data\n1\n[0.  0.1 0. ]\nFitting starts\nStart the initial hyper parameter searching ...\nDone\n\nStart the hyper parameter learning ...\n0-th epoch, marginal likelihood -70.56125063292798\n50-th epoch, marginal likelihood -72.38663387996095\n100-th epoch, marginal likelihood -73.95603225230508\n150-th epoch, marginal likelihood -75.42411479565878\n200-th epoch, marginal likelihood -76.84637100069938\n250-th epoch, marginal likelihood -78.24338549426096\n300-th epoch, marginal likelihood -79.62560965750788\n350-th epoch, marginal likelihood -80.99815651709451\n400-th epoch, marginal likelihood -82.36337858933909\n450-th epoch, marginal likelihood -83.72234843991274\n500-th epoch, marginal likelihood -85.07559546385494\nDone\n\n Parameters of Gaussian kernel \n \n width  =  [3.]\n scale  =  1.0\n scale2 =  1.0\n \n\nFitting ends\nCalculating score for test data\n1\n[0.  0.1 0. ]\nFitting starts\nStart the initial hyper parameter searching ...\nDone\n\nStart the hyper parameter learning ...\n0-th epoch, marginal likelihood -73.5088922863646\n50-th epoch, marginal likelihood -75.39852516240182\n100-th epoch, marginal likelihood -77.02763173507294\n150-th epoch, marginal likelihood -78.55268125831537\n200-th epoch, marginal likelihood -80.03026684171556\n250-th epoch, marginal likelihood -81.48151831713884\n300-th epoch, marginal likelihood -82.91723713729337\n350-th epoch, marginal likelihood -84.34275973676455\n400-th epoch, marginal likelihood -85.76057222555266\n450-th epoch, marginal likelihood -87.17182312902595\n500-th epoch, marginal likelihood -88.57708417667511\nDone\n\n Parameters of Gaussian kernel \n \n width  =  [3.]\n scale  =  1.0\n scale2 =  1.0\n \n\nFitting ends\nCalculating score for test data\n2\n[0.  0.  0.1]\nFitting starts\nStart the initial hyper parameter searching ...\nDone\n\nStart the hyper parameter learning ...\n0-th epoch, marginal likelihood -76.43995420797981\n50-th epoch, marginal likelihood -78.40739626772566\n100-th epoch, marginal likelihood -80.09885535393428\n150-th epoch, marginal likelihood -81.67633862967725\n200-th epoch, marginal likelihood -83.20531411122673\n250-th epoch, marginal likelihood -84.70833347606643\n300-th epoch, marginal likelihood -86.19613961860192\n350-th epoch, marginal likelihood -87.67397555311972\n400-th epoch, marginal likelihood -89.14425123812342\n450-th epoch, marginal likelihood -90.60805024542844\n500-th epoch, marginal likelihood -92.06589138639099\nDone\n\n Parameters of Gaussian kernel \n \n width  =  [3.]\n scale  =  1.0\n scale2 =  1.0\n \n\nFitting ends\nCalculating score for test data\n2\n[0.  0.  0.1]\nFitting starts\nStart the initial hyper parameter searching ...\nDone\n\nStart the hyper parameter learning ...\n0-th epoch, marginal likelihood -79.41699064114704\n50-th epoch, marginal likelihood -81.4096575872318\n100-th epoch, marginal likelihood -83.15445788399953\n150-th epoch, marginal likelihood -84.80057309335818\n200-th epoch, marginal likelihood -86.3954579940526\n250-th epoch, marginal likelihood -87.96099154244479\n300-th epoch, marginal likelihood -89.5089288950011\n350-th epoch, marginal likelihood -91.04514571160259\n400-th epoch, marginal likelihood -92.57246113146361\n450-th epoch, marginal likelihood -94.09224810120475\n500-th epoch, marginal likelihood -95.60523790232769\nDone\n\n Parameters of Gaussian kernel \n \n width  =  [3.]\n scale  =  1.0\n scale2 =  1.0\n \n\nFitting ends\nCalculating score for test data\n2\n[0.  0.  0.1]\nFitting starts\nStart the initial hyper parameter searching ...\nDone\n\nStart the hyper parameter learning ...\n0-th epoch, marginal likelihood -82.30564553661956\n50-th epoch, marginal likelihood -84.38603944149934\n100-th epoch, marginal likelihood -86.19003877146551\n150-th epoch, marginal likelihood -87.88319381314102\n200-th epoch, marginal likelihood -89.52677681894313\n250-th epoch, marginal likelihood -91.14298117501441\n300-th epoch, marginal likelihood -92.74288889977058\n350-th epoch, marginal likelihood -94.33192756312404\n400-th epoch, marginal likelihood -95.91261208880051\n450-th epoch, marginal likelihood -97.48610536824046\n500-th epoch, marginal likelihood -99.05299472076138\nDone\n\n Parameters of Gaussian kernel \n \n width  =  [3.]\n scale  =  1.0\n scale2 =  1.0\n \n\nFitting ends\nCalculating score for test data\n2\n[0.  0.  0.1]\nFitting starts\nStart the initial hyper parameter searching ...\nDone\n\nStart the hyper parameter learning ...\n0-th epoch, marginal likelihood -85.23406688246274\n50-th epoch, marginal likelihood -87.34914816544733\n100-th epoch, marginal likelihood -89.20774804071594\n150-th epoch, marginal likelihood -90.96594600914617\n200-th epoch, marginal likelihood -92.67269310923788\n250-th epoch, marginal likelihood -94.35003318845853\n300-th epoch, marginal likelihood -96.0096263896933\n350-th epoch, marginal likelihood -97.6572080828081\n400-th epoch, marginal likelihood -99.29549323626863\n450-th epoch, marginal likelihood -100.92580022209486\n500-th epoch, marginal likelihood -102.54884279837765\nDone\n\n Parameters of Gaussian kernel \n \n width  =  [3.]\n scale  =  1.0\n scale2 =  1.0\n \n\nFitting ends\nCalculating score for test data\n1\n[0.  0.1 0. ]\nFitting starts\nStart the initial hyper parameter searching ...\nDone\n\nStart the hyper parameter learning ...\n0-th epoch, marginal likelihood -88.18493413648132\n50-th epoch, marginal likelihood -90.35647556968202\n100-th epoch, marginal likelihood -92.27272982882816\n150-th epoch, marginal likelihood -94.08858729068326\n200-th epoch, marginal likelihood -95.85204884191612\n250-th epoch, marginal likelihood -97.58549981464681\n300-th epoch, marginal likelihood -99.3007616836921\n350-th epoch, marginal likelihood -101.00363359560009\n400-th epoch, marginal likelihood -102.69686579160438\n450-th epoch, marginal likelihood -104.38180527460024\n500-th epoch, marginal likelihood -106.05919237602059\nDone\n\n Parameters of Gaussian kernel \n \n width  =  [3.]\n scale  =  1.0\n scale2 =  1.0\n \n\nFitting ends\nCalculating score for test data\n2\n[0.  0.  0.1]\nFitting starts\nStart the initial hyper parameter searching ...\nDone\n\nStart the hyper parameter learning ...\n0-th epoch, marginal likelihood -91.12019799629888\n50-th epoch, marginal likelihood -93.34512051630426\n100-th epoch, marginal likelihood -95.31913070191473\n150-th epoch, marginal likelihood -97.19346364230191\n200-th epoch, marginal likelihood -99.01442411162311\n250-th epoch, marginal likelihood -100.8047771908746\n300-th epoch, marginal likelihood -102.57648878943048\n350-th epoch, marginal likelihood -104.3354013188628\n400-th epoch, marginal likelihood -106.08429007604808\n450-th epoch, marginal likelihood -107.82452915517159\n500-th epoch, marginal likelihood -109.55688847876826\nDone\n\n Parameters of Gaussian kernel \n \n width  =  [3.]\n scale  =  1.0\n scale2 =  1.0\n \n\nFitting ends\nCalculating score for test data\n2\n[0.  0.  0.1]\nFitting starts\nStart the initial hyper parameter searching ...\nDone\n\nStart the hyper parameter learning ...\n0-th epoch, marginal likelihood -94.0459275128935\n50-th epoch, marginal likelihood -96.31015747326849\n100-th epoch, marginal likelihood -98.35103674959718\n150-th epoch, marginal likelihood -100.2917956482716\n200-th epoch, marginal likelihood -102.17533852789592\n250-th epoch, marginal likelihood -104.02599611034697\n300-th epoch, marginal likelihood -105.85647615154024\n350-th epoch, marginal likelihood -107.67303301342595\n400-th epoch, marginal likelihood -109.47870641417036\n450-th epoch, marginal likelihood -111.27505256110206\n500-th epoch, marginal likelihood -113.06297102785982\nDone\n\n Parameters of Gaussian kernel \n \n width  =  [3.]\n scale  =  1.0\n scale2 =  1.0\n \n\nFitting ends\nCalculating score for test data\n2\n[0.  0.  0.1]\nFitting starts\nStart the initial hyper parameter searching ...\nDone\n\nStart the hyper parameter learning ...\n0-th epoch, marginal likelihood -96.94802561607553\n50-th epoch, marginal likelihood -99.26792958658214\n100-th epoch, marginal likelihood -101.37178212411389\n150-th epoch, marginal likelihood -103.3731206996015\n200-th epoch, marginal likelihood -105.31565912070877\n250-th epoch, marginal likelihood -107.22436853437486\n300-th epoch, marginal likelihood -109.11223412768067\n350-th epoch, marginal likelihood -110.98565352335144\n400-th epoch, marginal likelihood -112.84775441381258\n450-th epoch, marginal likelihood -114.70015446713224\n500-th epoch, marginal likelihood -116.54379943400764\nDone\n\n Parameters of Gaussian kernel \n \n width  =  [3.]\n scale  =  1.0\n scale2 =  1.0\n \n\nFitting ends\nCalculating score for test data\n1\n[0.  0.1 0. ]\nFitting starts\nStart the initial hyper parameter searching ...\nDone\n\nStart the hyper parameter learning ...\n0-th epoch, marginal likelihood -99.89742416483827\n50-th epoch, marginal likelihood -102.27363560999133\n100-th epoch, marginal likelihood -104.43593266880616\n150-th epoch, marginal likelihood -106.49430472194086\n200-th epoch, marginal likelihood -108.49320130827648\n250-th epoch, marginal likelihood -110.45788699016332\n300-th epoch, marginal likelihood -112.40142113595446\n350-th epoch, marginal likelihood -114.33021365305217\n400-th epoch, marginal likelihood -116.24739754597582\n450-th epoch, marginal likelihood -118.15460168192067\n500-th epoch, marginal likelihood -120.05278811669568\nDone\n\n Parameters of Gaussian kernel \n \n width  =  [3.]\n scale  =  1.0\n scale2 =  1.0\n \n\nFitting ends\nCalculating score for test data\n2\n[0.  0.  0.1]\nFitting starts\nStart the initial hyper parameter searching ...\nDone\n\nStart the hyper parameter learning ...\n0-th epoch, marginal likelihood -102.85236160719052\n50-th epoch, marginal likelihood -105.27253206825227\n100-th epoch, marginal likelihood -107.50396762696035\n150-th epoch, marginal likelihood -109.62489387415515\n200-th epoch, marginal likelihood -111.68358181986176\n250-th epoch, marginal likelihood -113.70646538278689\n300-th epoch, marginal likelihood -115.70707975247561\n350-th epoch, marginal likelihood -117.69209661922255\n400-th epoch, marginal likelihood -119.66482603123009\n450-th epoch, marginal likelihood -121.62702753950309\n500-th epoch, marginal likelihood -123.57976200912302\nDone\n\n Parameters of Gaussian kernel \n \n width  =  [3.]\n scale  =  1.0\n scale2 =  1.0\n \n\nFitting ends\nCalculating score for test data\n1\n[0.  0.1 0. ]\nFitting starts\nStart the initial hyper parameter searching ...\nDone\n\nStart the hyper parameter learning ...\n0-th epoch, marginal likelihood -105.81222166085958\n50-th epoch, marginal likelihood -108.29503335548031\n100-th epoch, marginal likelihood -110.58927776515579\n150-th epoch, marginal likelihood -112.76959865430305\n200-th epoch, marginal likelihood -114.88571034442016\n250-th epoch, marginal likelihood -116.96474098730431\n300-th epoch, marginal likelihood -119.02065270019735\n350-th epoch, marginal likelihood -121.06038656949343\n400-th epoch, marginal likelihood -123.08741750078575\n450-th epoch, marginal likelihood -125.10360371928962\n500-th epoch, marginal likelihood -127.11006563728687\nDone\n\n Parameters of Gaussian kernel \n \n width  =  [3.]\n scale  =  1.0\n scale2 =  1.0\n \n\nFitting ends\nCalculating score for test data\n2\n[0.  0.  0.1]\nFitting starts\nStart the initial hyper parameter searching ...\nDone\n\nStart the hyper parameter learning ...\n0-th epoch, marginal likelihood -108.74112908437209\n50-th epoch, marginal likelihood -111.2961974800043\n100-th epoch, marginal likelihood -113.63875402576522\n150-th epoch, marginal likelihood -115.8712538228555\n200-th epoch, marginal likelihood -118.04080929511362\n250-th epoch, marginal likelihood -120.17398070403233\n300-th epoch, marginal likelihood -122.28448723052888\n350-th epoch, marginal likelihood -124.37909878206936\n400-th epoch, marginal likelihood -126.46115727677186\n450-th epoch, marginal likelihood -128.53242213896763\n500-th epoch, marginal likelihood -130.5939444554644\nDone\n\n Parameters of Gaussian kernel \n \n width  =  [3.]\n scale  =  1.0\n scale2 =  1.0\n \n\nFitting ends\nCalculating score for test data\n2\n[0.  0.  0.1]\nFitting starts\nStart the initial hyper parameter searching ...\nDone\n\nStart the hyper parameter learning ...\n0-th epoch, marginal likelihood -111.69764268087734\n50-th epoch, marginal likelihood -114.30556761626967\n100-th epoch, marginal likelihood -116.71968197967513\n150-th epoch, marginal likelihood -119.01614948399956\n200-th epoch, marginal likelihood -121.24605559980066\n250-th epoch, marginal likelihood -123.43734204594514\n300-th epoch, marginal likelihood -125.6044629874497\n350-th epoch, marginal likelihood -127.75465096647305\n400-th epoch, marginal likelihood -129.89154962302058\n450-th epoch, marginal likelihood -132.0171152623946\n500-th epoch, marginal likelihood -134.1325280368413\nDone\n\n Parameters of Gaussian kernel \n \n width  =  [3.]\n scale  =  1.0\n scale2 =  1.0\n \n\nFitting ends\nCalculating score for test data\n2\n[0.  0.  0.1]\nFitting starts\nStart the initial hyper parameter searching ...\nDone\n\nStart the hyper parameter learning ...\n0-th epoch, marginal likelihood -114.63649839923758\n50-th epoch, marginal likelihood -117.30675921686804\n100-th epoch, marginal likelihood -119.78069413142899\n150-th epoch, marginal likelihood -122.13530779476702\n200-th epoch, marginal likelihood -124.4223185334318\n250-th epoch, marginal likelihood -126.67002361153652\n300-th epoch, marginal likelihood -128.89308276962024\n350-th epoch, marginal likelihood -131.0988478532294\n400-th epoch, marginal likelihood -133.2910319496708\n450-th epoch, marginal likelihood -135.47163280981727\n500-th epoch, marginal likelihood -137.64185670515081\nDone\n\n Parameters of Gaussian kernel \n \n width  =  [3.]\n scale  =  1.0\n scale2 =  1.0\n \n\nFitting ends\nCalculating score for test data\n2\n[0.  0.  0.1]\nFitting starts\nStart the initial hyper parameter searching ...\nDone\n\nStart the hyper parameter learning ...\n0-th epoch, marginal likelihood -117.578912790387\n50-th epoch, marginal likelihood -120.31057634699064\n100-th epoch, marginal likelihood -122.84248366952588\n150-th epoch, marginal likelihood -125.25432574145091\n200-th epoch, marginal likelihood -127.59801231869707\n250-th epoch, marginal likelihood -129.90201420637428\n300-th epoch, marginal likelihood -132.1810727876916\n350-th epoch, marginal likelihood -134.4425723656889\n400-th epoch, marginal likelihood -136.69023763598435\n450-th epoch, marginal likelihood -138.92607049267878\n500-th epoch, marginal likelihood -141.1512791041286\nDone\n\n Parameters of Gaussian kernel \n \n width  =  [3.]\n scale  =  1.0\n scale2 =  1.0\n \n\nFitting ends\nCalculating score for test data\n1\n[0.  0.1 0. ]\nFitting starts\nStart the initial hyper parameter searching ...\nDone\n\nStart the hyper parameter learning ...\n0-th epoch, marginal likelihood -120.54247685549176\n50-th epoch, marginal likelihood -123.33793203421355\n100-th epoch, marginal likelihood -125.93143149605133\n150-th epoch, marginal likelihood -128.4019706694051\n200-th epoch, marginal likelihood -130.80252833711083\n250-th epoch, marginal likelihood -133.16217068817642\n300-th epoch, marginal likelihood -135.49604634058693\n350-th epoch, marginal likelihood -137.8118105309148\n400-th epoch, marginal likelihood -140.113358116721\n450-th epoch, marginal likelihood -142.40279378255664\n500-th epoch, marginal likelihood -144.68138724410906\nDone\n\n Parameters of Gaussian kernel \n \n width  =  [3.]\n scale  =  1.0\n scale2 =  1.0\n \n\nFitting ends\nCalculating score for test data\n1\n[0.  0.1 0. ]\nFitting starts\nStart the initial hyper parameter searching ...\nDone\n\nStart the hyper parameter learning ...\n0-th epoch, marginal likelihood -123.51658862552965\n50-th epoch, marginal likelihood -126.37365151897298\n100-th epoch, marginal likelihood -129.02621176968933\n150-th epoch, marginal likelihood -131.55404546828487\n200-th epoch, marginal likelihood -134.01070814395354\n250-th epoch, marginal likelihood -136.42564864447766\n300-th epoch, marginal likelihood -138.81427030568304\n350-th epoch, marginal likelihood -141.18439018131122\n400-th epoch, marginal likelihood -143.54000015224292\n450-th epoch, marginal likelihood -145.88326094836933\n500-th epoch, marginal likelihood -148.2154747164388\nDone\n\n Parameters of Gaussian kernel \n \n width  =  [3.]\n scale  =  1.0\n scale2 =  1.0\n \n\nFitting ends\nCalculating score for test data\n1\n[0.  0.1 0. ]\nFitting starts\nStart the initial hyper parameter searching ...\nDone\n\nStart the hyper parameter learning ...\n0-th epoch, marginal likelihood -126.50559427969128\n50-th epoch, marginal likelihood -129.42479460511979\n100-th epoch, marginal likelihood -132.13688262252336\n150-th epoch, marginal likelihood -134.72236563810577\n200-th epoch, marginal likelihood -137.23537252003646\n250-th epoch, marginal likelihood -139.7057583328088\n300-th epoch, marginal likelihood -142.14921193249188\n350-th epoch, marginal likelihood -144.5737386811881\n400-th epoch, marginal likelihood -146.98344603455132\n450-th epoch, marginal likelihood -149.38056219981863\n500-th epoch, marginal likelihood -151.7664282395871\nDone\n\n Parameters of Gaussian kernel \n \n width  =  [3.]\n scale  =  1.0\n scale2 =  1.0\n \n\nFitting ends\nCalculating score for test data\n2\n[0.  0.  0.1]\nFitting starts\nStart the initial hyper parameter searching ...\nDone\n\nStart the hyper parameter learning ...\n0-th epoch, marginal likelihood -129.4907221779523\n50-th epoch, marginal likelihood -132.47115014950876\n100-th epoch, marginal likelihood -135.24205800718744\n150-th epoch, marginal likelihood -137.8846799920598\n200-th epoch, marginal likelihood -140.45367568874534\n250-th epoch, marginal likelihood -142.97925730807867\n300-th epoch, marginal likelihood -145.47735765941516\n350-th epoch, marginal likelihood -147.95614122402893\n400-th epoch, marginal likelihood -150.41981312578585\n450-th epoch, marginal likelihood -152.87065904653767\n500-th epoch, marginal likelihood -155.31005366610248\nDone\n\n Parameters of Gaussian kernel \n \n width  =  [3.]\n scale  =  1.0\n scale2 =  1.0\n \n\nFitting ends\nCalculating score for test data\n1\n[0.  0.1 0. ]\n50回目の試行で収束しませんでした. data:[3.  2.9 4.6], delta:0.10837911120705755\n"
    }
   ],
   "source": [
    "# N種類の材料からベイズ最適化で添加する\n",
    "N = 3\n",
    "ITER_NUM = 50\n",
    "TRAIN_PATH = './data/train3.csv'\n",
    "OUT_PATH = './data/out3-2.csv'\n",
    "THRESHOLD_VAL =  0.5\n",
    "SCALE_FACTOR =  0.1\n",
    "\n",
    "MIN_VAL = 1e-2\n",
    "\n",
    "for i in range(ITER_NUM):\n",
    "\n",
    "    X_train, t_train, _ = load_data(OUT_PATH)\n",
    "\n",
    "    if np.abs(t_train[-1]) > THRESHOLD_VAL:\n",
    "        X_test = np.eye(N, dtype=float) # one hot matrix\n",
    "    else:\n",
    "        X_test = SCALE_FACTOR * np.eye(N, dtype=float) # one hot matrix\n",
    "\n",
    "    X_train_ratio = concentration_conversion(X_train)\n",
    "\n",
    "    # feature vector の各要素を正規化します。\n",
    "    ave = np.mean(X_train_ratio, axis=0)\n",
    "    std = np.std(X_train_ratio, axis=0)\n",
    "    X_train_ratio = (X_train_ratio - ave) / (std + 1e-8)\n",
    "    X_test_ratio = (X_test - ave) / (std + 1e-8)\n",
    "\n",
    "    train_data = variable(X=X_train_ratio, t=t_train)\n",
    "    test_data = variable(X=X_test_ratio)\n",
    "\n",
    "    policy = combo.search.discrete.policy(test_X=test_data)\n",
    "    # set the seed parameter\n",
    "    policy.set_seed(0)\n",
    "    action = policy.bayes_search_single(training=train_data, score='TS', num_rand_basis=5000)\n",
    "    # score: 獲得関数(acquisition function) のタイプ。\n",
    "    # TS (Thompson Sampling)\n",
    "    # EI (Expected Improvement)\n",
    "    # PI (Probability of Improvement)\n",
    "\n",
    "    print(action)\n",
    "    print(X_test[action])\n",
    "\n",
    "    update_quantity = X_train[-1] + X_test[action]\n",
    "    update_quantity_ratio = concentration_conversion(update_quantity) # 濃度に変換する.\n",
    "    delta = cost_func(update_quantity_ratio[0], update_quantity_ratio[1], update_quantity_ratio[2]) # 目指す匂いの目的関数との誤差\n",
    "\n",
    "    new_data = np.append(np.round(update_quantity, decimals=5), delta)\n",
    "\n",
    "    add_data_in_file(OUT_PATH, new_data)\n",
    "\n",
    "    if delta  < MIN_VAL:\n",
    "        print('{}回目で収束. data:{}, delta:{}'.format(i, new_data[:-1],delta))\n",
    "        break\n",
    "\n",
    "print('{}回目の試行で収束しませんでした. data:{}, delta:{}'.format(ITER_NUM, new_data[:-1], delta))"
   ]
  },
  {
   "cell_type": "markdown",
   "metadata": {},
   "source": [
    "## 課題\n",
    "・１回の添加量を例えば５まで入れられるようする.\n",
    "\n",
    "・１回の添加量で、どれかの材料を１つ選んでいるが、複数選んだ方策も選択肢に入れる.\n",
    "\n",
    "・添加総量に制限を持たせる.\n"
   ]
  },
  {
   "cell_type": "code",
   "execution_count": null,
   "metadata": {},
   "outputs": [],
   "source": []
  }
 ]
}